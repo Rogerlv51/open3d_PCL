{
 "cells": [
  {
   "cell_type": "code",
   "execution_count": 6,
   "metadata": {},
   "outputs": [
    {
     "name": "stdout",
     "output_type": "stream",
     "text": [
      "PointCloud with 40256 points.\n",
      "[[-0.06325    0.0359793  0.0420873]\n",
      " [-0.06275    0.0360343  0.0425949]\n",
      " [-0.0645     0.0365101  0.0404362]\n",
      " ...\n",
      " [-0.01575    0.187201  -0.0220209]\n",
      " [-0.01525    0.187218  -0.0237782]\n",
      " [-0.018      0.18794   -0.0197253]]\n"
     ]
    }
   ],
   "source": [
    "import numpy as np\n",
    "import open3d\n",
    "\n",
    "pcd = open3d.io.read_point_cloud(\"bun000.ply\")\n",
    "print(pcd)    # 打印点的总数\n",
    "print(np.asarray(pcd.points))    # 打印实际点云的坐标数据\n",
    "\n",
    "open3d.visualization.draw_geometries([pcd])"
   ]
  },
  {
   "cell_type": "code",
   "execution_count": 9,
   "metadata": {},
   "outputs": [],
   "source": [
    "down_pcd = pcd.voxel_down_sample(voxel_size = 0.01)   # 下采样\n",
    "open3d.visualization.draw_geometries([down_pcd])\n"
   ]
  },
  {
   "cell_type": "code",
   "execution_count": null,
   "metadata": {},
   "outputs": [],
   "source": []
  }
 ],
 "metadata": {
  "kernelspec": {
   "display_name": "Python 3.9.13 ('open3d')",
   "language": "python",
   "name": "python3"
  },
  "language_info": {
   "codemirror_mode": {
    "name": "ipython",
    "version": 3
   },
   "file_extension": ".py",
   "mimetype": "text/x-python",
   "name": "python",
   "nbconvert_exporter": "python",
   "pygments_lexer": "ipython3",
   "version": "3.9.13"
  },
  "orig_nbformat": 4,
  "vscode": {
   "interpreter": {
    "hash": "dfa405e3e07ddb92c8669f2deaf4519e772fad0303b5880ce60db9de3345ca2c"
   }
  }
 },
 "nbformat": 4,
 "nbformat_minor": 2
}
