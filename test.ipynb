{
 "cells": [
  {
   "cell_type": "code",
   "execution_count": 9,
   "metadata": {},
   "outputs": [
    {
     "name": "stdout",
     "output_type": "stream",
     "text": [
      "PointCloud with 40256 points.\n"
     ]
    }
   ],
   "source": [
    "import numpy as np\n",
    "import open3d as o3d\n",
    "\n",
    "pcd = o3d.io.read_point_cloud(\"bun000.ply\")   # 可读取ply，pcd等等格式文件\n",
    "print(pcd)    # 打印点的总数\n",
    "# print(np.asarray(pcd.points))    # 打印实际点云的坐标数据\n",
    "\n",
    "o3d.visualization.draw_geometries([pcd], height = 680, width = 1080, window_name = 'Open3D test')   # 设置窗口大小"
   ]
  },
  {
   "cell_type": "code",
   "execution_count": 4,
   "metadata": {},
   "outputs": [],
   "source": [
    "down_pcd = pcd.voxel_down_sample(voxel_size = 0.01)   # 下采样\n",
    "o3d.visualization.draw_geometries([down_pcd])\n"
   ]
  },
  {
   "cell_type": "code",
   "execution_count": 14,
   "metadata": {},
   "outputs": [
    {
     "name": "stdout",
     "output_type": "stream",
     "text": [
      "(5, 3)\n"
     ]
    },
    {
     "data": {
      "text/plain": [
       "True"
      ]
     },
     "execution_count": 14,
     "metadata": {},
     "output_type": "execute_result"
    }
   ],
   "source": [
    "## 我们可以把numpy数组转成点云文件保存\n",
    "import numpy as np\n",
    "arys = np.random.randint(1,10,(5,3))\n",
    "print(arys.shape)\n",
    "np_pcd = o3d.geometry.PointCloud()    # 实例化一个pointcloud类\n",
    "np_pcd.points=o3d.utility.Vector3dVector(arys)   # 将数组传入点云实例\n",
    "o3d.visualization.draw_geometries([np_pcd], height = 680, width = 1080)\n",
    "#  o3d.io.write_point_cloud(\"np.ply\", np_pcd) 保存点云到本地"
   ]
  },
  {
   "cell_type": "code",
   "execution_count": 17,
   "metadata": {},
   "outputs": [],
   "source": [
    "## 使用Visualizer也可以可视化\n",
    "vis = o3d.visualization.Visualizer()\n",
    "vis.create_window(window_name='Test', width=1080, height=720)\n",
    "vis.add_geometry(pcd)   # 加入点云数据\n",
    "vis.run()\n",
    "vis.destroy_window()"
   ]
  }
 ],
 "metadata": {
  "kernelspec": {
   "display_name": "Python 3.8.17 ('py3.8')",
   "language": "python",
   "name": "python3"
  },
  "language_info": {
   "codemirror_mode": {
    "name": "ipython",
    "version": 3
   },
   "file_extension": ".py",
   "mimetype": "text/x-python",
   "name": "python",
   "nbconvert_exporter": "python",
   "pygments_lexer": "ipython3",
   "version": "3.8.17"
  },
  "orig_nbformat": 4,
  "vscode": {
   "interpreter": {
    "hash": "ff4e7904668a66651eb1c6104e054af041a081adeedd4ad0bece2923e43b0a72"
   }
  }
 },
 "nbformat": 4,
 "nbformat_minor": 2
}
